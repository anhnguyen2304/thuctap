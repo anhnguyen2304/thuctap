{
 "cells": [
  {
   "cell_type": "code",
   "execution_count": 24,
   "id": "9000baa0",
   "metadata": {},
   "outputs": [
    {
     "name": "stdout",
     "output_type": "stream",
     "text": [
      "Người dùng nhập từ bàn phím với 3 ký tự E,G,L để trả lời: + E: đúng + G: lớn hơn + L: nhỏ hơn\n",
      "50\n",
      "Đó có phải là số bạn nghĩ không?G\n",
      "25\n",
      "Đó có phải là số bạn nghĩ không?G\n",
      "12\n",
      "Đó có phải là số bạn nghĩ không?G\n",
      "6\n",
      "Đó có phải là số bạn nghĩ không?G\n",
      "3\n",
      "Đó có phải là số bạn nghĩ không?L\n",
      "4\n",
      "Đó có phải là số bạn nghĩ không?L\n",
      "5\n",
      "Đó có phải là số bạn nghĩ không?E\n",
      "số bạn nghĩ là:  5\n"
     ]
    }
   ],
   "source": [
    "dau = 1\n",
    "cuoi = 100\n",
    "SDD = dau + (cuoi - dau) // 2\n",
    "\n",
    "print (\"Người dùng nhập từ bàn phím với 3 ký tự E,G,L để trả lời: \\\n",
    "+ E: đúng \\\n",
    "+ G: lớn hơn \\\n",
    "+ L: nhỏ hơn\")\n",
    "while 1:\n",
    "    print (SDD)\n",
    "    SBA = str(input('Đó có phải là số bạn nghĩ không?'))\n",
    "    \n",
    "    if SBA == 'G':\n",
    "        dau = dau\n",
    "        cuoi = SDD-1\n",
    "        SDD = dau + (cuoi - dau) // 2\n",
    "    elif SBA == 'L':\n",
    "        dau = SDD + 1\n",
    "        cuoi = cuoi\n",
    "        SDD = dau + (cuoi - dau) // 2\n",
    "    elif SBA == 'E':\n",
    "        print ('số bạn nghĩ là: ', SDD)\n",
    "        break\n",
    "       \n",
    "    else:\n",
    "        print ('Sai cú pháp. Hãy nhập E G hay L')"
   ]
  },
  {
   "cell_type": "code",
   "execution_count": 23,
   "id": "7f0b050a",
   "metadata": {},
   "outputs": [
    {
     "name": "stdout",
     "output_type": "stream",
     "text": [
      "cube\n",
      "3\n"
     ]
    },
    {
     "data": {
      "text/plain": [
       "1"
      ]
     },
     "execution_count": 23,
     "metadata": {},
     "output_type": "execute_result"
    }
   ],
   "source": [
    "import math as m\n",
    "hs = input()\n",
    "so = int(input())\n",
    "hamso = {'square':so*so,'cube':so*so*so,'absolute':abs(so),'square root':m.sqrt(so),'ln':m.log(so),'floor':m.floor(so)}\n",
    "sodb = {'lucky number':7, 'unlucky number':13, 'e':2.71828,'pi':3.14159,\n",
    "        'golden ratio':1.61803,'infinity':m.inf,'minus infinity':-m.inf}\n",
    "\n",
    "\n",
    "tudien.get(hs)"
   ]
  },
  {
   "cell_type": "code",
   "execution_count": 19,
   "id": "d465bdd8",
   "metadata": {},
   "outputs": [
    {
     "data": {
      "text/plain": [
       "0"
      ]
     },
     "execution_count": 19,
     "metadata": {},
     "output_type": "execute_result"
    }
   ],
   "source": [
    "tudien['cube']"
   ]
  },
  {
   "cell_type": "code",
   "execution_count": 2,
   "id": "f7ae7bc5",
   "metadata": {},
   "outputs": [
    {
     "name": "stdout",
     "output_type": "stream",
     "text": [
      "cube\n",
      "lucky number\n"
     ]
    },
    {
     "data": {
      "text/plain": [
       "343"
      ]
     },
     "execution_count": 2,
     "metadata": {},
     "output_type": "execute_result"
    }
   ],
   "source": [
    "import math as m\n",
    "hs = input()\n",
    "s = input()\n",
    "\n",
    "sodb = {'lucky number':7, 'unlucky number':13, 'e':2.71828,'pi':3.14159,\n",
    "        'golden ratio':1.61803,'infinity':m.inf,'minus infinity':-m.inf}\n",
    "so = 0\n",
    "if s in sodb:\n",
    "    so = sodb.get(s)\n",
    "else:\n",
    "    so = int(s)\n",
    "hamso = {'square':so*so,'cube':so*so*so,'absolute':abs(so),'square root':m.sqrt(so),'ln':m.log(so),'floor':m.floor(so)}\n",
    "\n",
    "hamso.get(hs)"
   ]
  },
  {
   "cell_type": "code",
   "execution_count": 24,
   "id": "305c8771",
   "metadata": {},
   "outputs": [
    {
     "name": "stdout",
     "output_type": "stream",
     "text": [
      "khong phai duoc gi\n"
     ]
    },
    {
     "data": {
      "text/plain": [
       "'h0nq f4j |)u0k j'"
      ]
     },
     "execution_count": 24,
     "metadata": {},
     "output_type": "execute_result"
    }
   ],
   "source": [
    "teen_code= {'a':'4', 'b':'|3', 'd':'|)', 'e':'3', 'i':'j', 'o':'0', 'y':'ij', 'l':'|_', 's':'z', 'g':'q', 'kh':'h', 'ph':'f', 'c ':'k ', 'gi':'j'}\n",
    "s = input()\n",
    "s +=' '\n",
    "r = \"\"\n",
    "i = 0\n",
    "while i <len(s)-1:\n",
    "    \n",
    "    if s[i]+s[i+1]=='ph' or s[i]+s[i+1]=='kh' or s[i]+s[i+1]=='gi' or s[i]+s[i+1]=='c ':\n",
    "        k = s[i]+s[i+1]\n",
    "        r += teen_code.get(k)\n",
    "        i+=1\n",
    "        \n",
    "    elif s[i] not in teen_code:\n",
    "        r+=s[i]\n",
    "    else:\n",
    "        r+=teen_code.get(s[i])\n",
    "        \n",
    "    i+=1\n",
    "\n",
    "\n"
   ]
  },
  {
   "cell_type": "code",
   "execution_count": 31,
   "id": "559c59c8",
   "metadata": {},
   "outputs": [
    {
     "data": {
      "text/plain": [
       "35"
      ]
     },
     "execution_count": 31,
     "metadata": {},
     "output_type": "execute_result"
    }
   ],
   "source": [
    "\n",
    "def C(k,n,cnt):\n",
    "    cnt+=1\n",
    "    if k ==0 or k ==n:\n",
    "        return 1\n",
    "    return C(k-1,n-1,cnt) +C(k,n-1,cnt)\n",
    "C(4,7,0)"
   ]
  },
  {
   "cell_type": "code",
   "execution_count": null,
   "id": "74806317",
   "metadata": {},
   "outputs": [],
   "source": []
  },
  {
   "cell_type": "code",
   "execution_count": null,
   "id": "75503398",
   "metadata": {},
   "outputs": [],
   "source": []
  }
 ],
 "metadata": {
  "kernelspec": {
   "display_name": "Python 3 (ipykernel)",
   "language": "python",
   "name": "python3"
  },
  "language_info": {
   "codemirror_mode": {
    "name": "ipython",
    "version": 3
   },
   "file_extension": ".py",
   "mimetype": "text/x-python",
   "name": "python",
   "nbconvert_exporter": "python",
   "pygments_lexer": "ipython3",
   "version": "3.9.7"
  }
 },
 "nbformat": 4,
 "nbformat_minor": 5
}
